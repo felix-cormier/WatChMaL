{
 "cells": [
  {
   "cell_type": "code",
   "execution_count": 3,
   "metadata": {},
   "outputs": [],
   "source": [
    "import h5py\n",
    "import numpy as np\n",
    "import hashlib\n",
    "\n",
    "import matplotlib\n",
    "from matplotlib import pyplot as plt\n",
    "import analysis.utils.binning as bins\n",
    "import WatChMaL.analysis.utils.fitqun as fq\n",
    "\n",
    "\n",
    "def regression_analysis(true_positions, pred_positions):\n",
    "    '''\n",
    "    - scatter plot of pred vs true\n",
    "    - residual histogram\n",
    "    '''\n",
    "    vertex_axis = ['X', 'Y', 'Z']\n",
    "    for i in range(3): \n",
    "        line = np.linspace(-1600,1600,10)\n",
    "        plt.figure(figsize=(5,5))\n",
    "        color = plt.rcParams[\"axes.prop_cycle\"].by_key()[\"color\"][i]\n",
    "        plt.scatter(true_positions[:,i], pred_positions[:,i], alpha=0.05, s=0.1, color=color)\n",
    "        plt.plot(line, line, '--', color='black', alpha=0.5)\n",
    "        plt.xlim(-2000,2000)\n",
    "        plt.ylim(-2000,2000)\n",
    "        \n",
    "        plt.title(f'Event Vertex for {vertex_axis[i]} Axis')\n",
    "        plt.xlabel('True Position [cm]')\n",
    "        plt.ylabel('Predicted Position [cm]')\n",
    "        plt.show()\n",
    "\n",
    "        residuals = true_positions[:,i] - pred_positions[:,i]\n",
    "        residuals_div = residuals/(true_positions[:,i])\n",
    "        residuals_cut = [] \n",
    "        residuals_div_cut = []\n",
    "        cut = 1600\n",
    "        \n",
    "        for r in range(len(residuals)):\n",
    "            if -cut < residuals[r] <  cut:\n",
    "                residuals_cut.append(residuals[r])\n",
    "            if -cut < residuals_div[r] < cut:\n",
    "                residuals_div_cut.append(residuals_div[r])\n",
    "\n",
    "        plt.hist(residuals_cut, bins=50, alpha=0.7, color=color)\n",
    "        plt.xlim(-cut, cut)\n",
    "\n",
    "        plt.title(f'Event Vertex for {vertex_axis[i]} Axis')\n",
    "        plt.xlabel('true - predicted [cm]')\n",
    "        plt.ylabel('count')\n",
    "        plt.show()\n",
    "\n",
    "        plt.hist(residuals_div_cut, bins=50, alpha=0.7, color=color)\n",
    "        plt.xlim(-cut, cut)\n",
    "        \n",
    "\n",
    "        plt.title(f'Event Vertex for {vertex_axis[i]} Axis')\n",
    "        plt.xlabel('(true - predicted)/true')\n",
    "        plt.ylabel('count')\n",
    "        plt.show()\n",
    "\n",
    "def un_normalize(data, x_bounds=(-1600,1600), y_bounds=(-1600,1600), z_bounds=(-1600,1600)):\n",
    "    '''\n",
    "    '''\n",
    "    bounds = [x_bounds, y_bounds, z_bounds]\n",
    "    for i in range(3):\n",
    "        data[i] = ((data[i])*(bounds[i][1] - bounds[i][0])) + bounds[i][0] \n",
    "        \n",
    "    return data\n",
    "\n",
    "def plot_regression_results(file_path = '/fast_scratch_2/aferreira/t2k/ml/data/oct20_combine_flatE/fitqun_combine.hy'):\n",
    "    '''\n",
    "    looking at \n",
    "    e_1rpos[3]  \t        \tElectron hypothesis vertex position (3D, x=0, y=1, z=2)\n",
    "    mu_1rpos[3] \t                Muon hypothesis vertex position (3D, x=0, y=1, z=2)\n",
    "    '''\n",
    "    (discr, labels, fitqun_1rmom, fitqun_hash), (mu_1rpos, e_1rpos) = fq.read_fitqun_file(file_path, regression=True)\n",
    "\n",
    "    dirpath = '/fast_scratch_2/aferreira/t2k/ml/data/oct20_combine_flatE/nov26_normed_regression_only/20092023-101855/'\n",
    "    true_positions = np.load(dirpath + \"true_positions.npy\")\n",
    "    tp = []\n",
    "    for t in true_positions:\n",
    "        tp.append(un_normalize(t))\n",
    "    true_positions = np.array(tp)\n",
    "\n",
    "    # in future read in same generic plotting stuff\n",
    "    regression_analysis(true_positions, e_1rpos)\n",
    "    regression_analysis(true_positions, mu_1rpos)"
   ]
  },
  {
   "cell_type": "code",
   "execution_count": 4,
   "metadata": {},
   "outputs": [
    {
     "name": "stdout",
     "output_type": "stream",
     "text": [
      "<KeysViewHDF5 ['e_1rdir', 'e_1rmom', 'e_1rnll', 'e_1rpos', 'event_ids', 'labels', 'mu_1rdir', 'mu_1rmom', 'mu_1rnll', 'mu_1rpos', 'pi_1rdir', 'pi_1rmom', 'pi_1rnll', 'pi_1rpos', 'root_files']>\n",
      "[  0   1   2 ... 197 198 199]\n",
      "[  0   1   2 ... 197 198 199]\n",
      "fitqun e- avg: 0.9799709117915552\n",
      "fitqun mu- avg: 0.9286346396965866\n"
     ]
    },
    {
     "ename": "IndexError",
     "evalue": "too many indices for array: array is 1-dimensional, but 2 were indexed",
     "output_type": "error",
     "traceback": [
      "\u001b[0;31m---------------------------------------------------------------------------\u001b[0m",
      "\u001b[0;31mIndexError\u001b[0m                                Traceback (most recent call last)",
      "\u001b[1;32m/Users/aferreira/Documents/GitHub/t2k_ml_training/WatChMaL/analysis/utils/fitqun_regression_dev.ipynb Cell 2\u001b[0m line \u001b[0;36m1\n\u001b[0;32m----> <a href='vscode-notebook-cell:/Users/aferreira/Documents/GitHub/t2k_ml_training/WatChMaL/analysis/utils/fitqun_regression_dev.ipynb#W2sZmlsZQ%3D%3D?line=0'>1</a>\u001b[0m plot_regression_results()\n",
      "\u001b[1;32m/Users/aferreira/Documents/GitHub/t2k_ml_training/WatChMaL/analysis/utils/fitqun_regression_dev.ipynb Cell 2\u001b[0m line \u001b[0;36m8\n\u001b[1;32m     <a href='vscode-notebook-cell:/Users/aferreira/Documents/GitHub/t2k_ml_training/WatChMaL/analysis/utils/fitqun_regression_dev.ipynb#W2sZmlsZQ%3D%3D?line=81'>82</a>\u001b[0m true_positions \u001b[39m=\u001b[39m np\u001b[39m.\u001b[39marray(tp)\n\u001b[1;32m     <a href='vscode-notebook-cell:/Users/aferreira/Documents/GitHub/t2k_ml_training/WatChMaL/analysis/utils/fitqun_regression_dev.ipynb#W2sZmlsZQ%3D%3D?line=83'>84</a>\u001b[0m \u001b[39m# in future read in same generic plotting stuff\u001b[39;00m\n\u001b[0;32m---> <a href='vscode-notebook-cell:/Users/aferreira/Documents/GitHub/t2k_ml_training/WatChMaL/analysis/utils/fitqun_regression_dev.ipynb#W2sZmlsZQ%3D%3D?line=84'>85</a>\u001b[0m regression_analysis(true_positions, e_1rpos)\n\u001b[1;32m     <a href='vscode-notebook-cell:/Users/aferreira/Documents/GitHub/t2k_ml_training/WatChMaL/analysis/utils/fitqun_regression_dev.ipynb#W2sZmlsZQ%3D%3D?line=85'>86</a>\u001b[0m regression_analysis(true_positions, mu_1rpos)\n",
      "\u001b[1;32m/Users/aferreira/Documents/GitHub/t2k_ml_training/WatChMaL/analysis/utils/fitqun_regression_dev.ipynb Cell 2\u001b[0m line \u001b[0;36m2\n\u001b[1;32m     <a href='vscode-notebook-cell:/Users/aferreira/Documents/GitHub/t2k_ml_training/WatChMaL/analysis/utils/fitqun_regression_dev.ipynb#W2sZmlsZQ%3D%3D?line=18'>19</a>\u001b[0m plt\u001b[39m.\u001b[39mfigure(figsize\u001b[39m=\u001b[39m(\u001b[39m5\u001b[39m,\u001b[39m5\u001b[39m))\n\u001b[1;32m     <a href='vscode-notebook-cell:/Users/aferreira/Documents/GitHub/t2k_ml_training/WatChMaL/analysis/utils/fitqun_regression_dev.ipynb#W2sZmlsZQ%3D%3D?line=19'>20</a>\u001b[0m color \u001b[39m=\u001b[39m plt\u001b[39m.\u001b[39mrcParams[\u001b[39m\"\u001b[39m\u001b[39maxes.prop_cycle\u001b[39m\u001b[39m\"\u001b[39m]\u001b[39m.\u001b[39mby_key()[\u001b[39m\"\u001b[39m\u001b[39mcolor\u001b[39m\u001b[39m\"\u001b[39m][i]\n\u001b[0;32m---> <a href='vscode-notebook-cell:/Users/aferreira/Documents/GitHub/t2k_ml_training/WatChMaL/analysis/utils/fitqun_regression_dev.ipynb#W2sZmlsZQ%3D%3D?line=20'>21</a>\u001b[0m plt\u001b[39m.\u001b[39mscatter(true_positions[:,i], pred_positions[:,i], alpha\u001b[39m=\u001b[39m\u001b[39m0.05\u001b[39m, s\u001b[39m=\u001b[39m\u001b[39m0.1\u001b[39m, color\u001b[39m=\u001b[39mcolor)\n\u001b[1;32m     <a href='vscode-notebook-cell:/Users/aferreira/Documents/GitHub/t2k_ml_training/WatChMaL/analysis/utils/fitqun_regression_dev.ipynb#W2sZmlsZQ%3D%3D?line=21'>22</a>\u001b[0m plt\u001b[39m.\u001b[39mplot(line, line, \u001b[39m'\u001b[39m\u001b[39m--\u001b[39m\u001b[39m'\u001b[39m, color\u001b[39m=\u001b[39m\u001b[39m'\u001b[39m\u001b[39mblack\u001b[39m\u001b[39m'\u001b[39m, alpha\u001b[39m=\u001b[39m\u001b[39m0.5\u001b[39m)\n\u001b[1;32m     <a href='vscode-notebook-cell:/Users/aferreira/Documents/GitHub/t2k_ml_training/WatChMaL/analysis/utils/fitqun_regression_dev.ipynb#W2sZmlsZQ%3D%3D?line=22'>23</a>\u001b[0m plt\u001b[39m.\u001b[39mxlim(\u001b[39m-\u001b[39m\u001b[39m2000\u001b[39m,\u001b[39m2000\u001b[39m)\n",
      "\u001b[0;31mIndexError\u001b[0m: too many indices for array: array is 1-dimensional, but 2 were indexed"
     ]
    },
    {
     "data": {
      "image/png": "[encoded data removed]",
      "text/plain": [
       "<Figure size 640x480 with 1 Axes>"
      ]
     },
     "metadata": {},
     "output_type": "display_data"
    },
    {
     "data": {
      "text/plain": [
       "<Figure size 500x500 with 0 Axes>"
      ]
     },
     "metadata": {},
     "output_type": "display_data"
    }
   ],
   "source": [
    "plot_regression_results()"
   ]
  },
  {
   "cell_type": "markdown",
   "metadata": {},
   "source": []
  }
 ],
 "metadata": {
  "kernelspec": {
   "display_name": "Python 3 (ipykernel)",
   "language": "python",
   "name": "python3"
  },
  "language_info": {
   "codemirror_mode": {
    "name": "ipython",
    "version": 3
   },
   "file_extension": ".py",
   "mimetype": "text/x-python",
   "name": "python",
   "nbconvert_exporter": "python",
   "pygments_lexer": "ipython3",
   "version": "3.8.10"
  }
 },
 "nbformat": 4,
 "nbformat_minor": 2
}
